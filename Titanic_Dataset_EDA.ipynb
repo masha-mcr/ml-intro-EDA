{
 "cells": [
  {
   "cell_type": "code",
   "execution_count": 176,
   "id": "e96bcc38",
   "metadata": {},
   "outputs": [],
   "source": [
    "import pandas as pd\n",
    "import numpy as np\n",
    "import matplotlib.pyplot as plt\n",
    "import seaborn as sns"
   ]
  },
  {
   "cell_type": "code",
   "execution_count": 177,
   "id": "ba445944",
   "metadata": {},
   "outputs": [],
   "source": [
    "titanic_data = pd.read_csv('train.csv', index_col='PassengerId')"
   ]
  },
  {
   "cell_type": "markdown",
   "id": "1d13f3fb",
   "metadata": {},
   "source": [
    "# Context\n",
    "\n",
    "Рассмотрим первые пару записей датасета:"
   ]
  },
  {
   "cell_type": "code",
   "execution_count": 178,
   "id": "aaf7070f",
   "metadata": {},
   "outputs": [
    {
     "data": {
      "text/html": [
       "<div>\n",
       "<style scoped>\n",
       "    .dataframe tbody tr th:only-of-type {\n",
       "        vertical-align: middle;\n",
       "    }\n",
       "\n",
       "    .dataframe tbody tr th {\n",
       "        vertical-align: top;\n",
       "    }\n",
       "\n",
       "    .dataframe thead th {\n",
       "        text-align: right;\n",
       "    }\n",
       "</style>\n",
       "<table border=\"1\" class=\"dataframe\">\n",
       "  <thead>\n",
       "    <tr style=\"text-align: right;\">\n",
       "      <th></th>\n",
       "      <th>Survived</th>\n",
       "      <th>Pclass</th>\n",
       "      <th>Name</th>\n",
       "      <th>Sex</th>\n",
       "      <th>Age</th>\n",
       "      <th>SibSp</th>\n",
       "      <th>Parch</th>\n",
       "      <th>Ticket</th>\n",
       "      <th>Fare</th>\n",
       "      <th>Cabin</th>\n",
       "      <th>Embarked</th>\n",
       "    </tr>\n",
       "    <tr>\n",
       "      <th>PassengerId</th>\n",
       "      <th></th>\n",
       "      <th></th>\n",
       "      <th></th>\n",
       "      <th></th>\n",
       "      <th></th>\n",
       "      <th></th>\n",
       "      <th></th>\n",
       "      <th></th>\n",
       "      <th></th>\n",
       "      <th></th>\n",
       "      <th></th>\n",
       "    </tr>\n",
       "  </thead>\n",
       "  <tbody>\n",
       "    <tr>\n",
       "      <th>99995</th>\n",
       "      <td>1</td>\n",
       "      <td>2</td>\n",
       "      <td>Bell, Adele</td>\n",
       "      <td>female</td>\n",
       "      <td>62.0</td>\n",
       "      <td>0</td>\n",
       "      <td>0</td>\n",
       "      <td>PC 15008</td>\n",
       "      <td>14.86</td>\n",
       "      <td>D17243</td>\n",
       "      <td>C</td>\n",
       "    </tr>\n",
       "    <tr>\n",
       "      <th>99996</th>\n",
       "      <td>0</td>\n",
       "      <td>2</td>\n",
       "      <td>Brown, Herman</td>\n",
       "      <td>male</td>\n",
       "      <td>66.0</td>\n",
       "      <td>0</td>\n",
       "      <td>0</td>\n",
       "      <td>13273</td>\n",
       "      <td>11.15</td>\n",
       "      <td>NaN</td>\n",
       "      <td>S</td>\n",
       "    </tr>\n",
       "    <tr>\n",
       "      <th>99997</th>\n",
       "      <td>0</td>\n",
       "      <td>3</td>\n",
       "      <td>Childress, Charles</td>\n",
       "      <td>male</td>\n",
       "      <td>37.0</td>\n",
       "      <td>0</td>\n",
       "      <td>0</td>\n",
       "      <td>NaN</td>\n",
       "      <td>9.95</td>\n",
       "      <td>NaN</td>\n",
       "      <td>S</td>\n",
       "    </tr>\n",
       "    <tr>\n",
       "      <th>99998</th>\n",
       "      <td>0</td>\n",
       "      <td>3</td>\n",
       "      <td>Caughlin, Thomas</td>\n",
       "      <td>male</td>\n",
       "      <td>51.0</td>\n",
       "      <td>0</td>\n",
       "      <td>1</td>\n",
       "      <td>458654</td>\n",
       "      <td>30.92</td>\n",
       "      <td>NaN</td>\n",
       "      <td>S</td>\n",
       "    </tr>\n",
       "    <tr>\n",
       "      <th>99999</th>\n",
       "      <td>0</td>\n",
       "      <td>3</td>\n",
       "      <td>Enciso, Tyler</td>\n",
       "      <td>male</td>\n",
       "      <td>55.0</td>\n",
       "      <td>0</td>\n",
       "      <td>0</td>\n",
       "      <td>458074</td>\n",
       "      <td>13.96</td>\n",
       "      <td>NaN</td>\n",
       "      <td>S</td>\n",
       "    </tr>\n",
       "  </tbody>\n",
       "</table>\n",
       "</div>"
      ],
      "text/plain": [
       "             Survived  Pclass                Name     Sex   Age  SibSp  Parch  \\\n",
       "PassengerId                                                                     \n",
       "99995               1       2         Bell, Adele  female  62.0      0      0   \n",
       "99996               0       2       Brown, Herman    male  66.0      0      0   \n",
       "99997               0       3  Childress, Charles    male  37.0      0      0   \n",
       "99998               0       3    Caughlin, Thomas    male  51.0      0      1   \n",
       "99999               0       3       Enciso, Tyler    male  55.0      0      0   \n",
       "\n",
       "               Ticket   Fare   Cabin Embarked  \n",
       "PassengerId                                    \n",
       "99995        PC 15008  14.86  D17243        C  \n",
       "99996           13273  11.15     NaN        S  \n",
       "99997             NaN   9.95     NaN        S  \n",
       "99998          458654  30.92     NaN        S  \n",
       "99999          458074  13.96     NaN        S  "
      ]
     },
     "execution_count": 178,
     "metadata": {},
     "output_type": "execute_result"
    }
   ],
   "source": [
    "titanic_data.tail()"
   ]
  },
  {
   "cell_type": "code",
   "execution_count": 179,
   "id": "aa783c44",
   "metadata": {},
   "outputs": [
    {
     "data": {
      "text/plain": [
       "(100000, 11)"
      ]
     },
     "execution_count": 179,
     "metadata": {},
     "output_type": "execute_result"
    }
   ],
   "source": [
    "titanic_data.shape"
   ]
  },
  {
   "cell_type": "code",
   "execution_count": 180,
   "id": "8578346f",
   "metadata": {},
   "outputs": [
    {
     "name": "stdout",
     "output_type": "stream",
     "text": [
      "<class 'pandas.core.frame.DataFrame'>\n",
      "Int64Index: 100000 entries, 0 to 99999\n",
      "Data columns (total 11 columns):\n",
      " #   Column    Non-Null Count   Dtype  \n",
      "---  ------    --------------   -----  \n",
      " 0   Survived  100000 non-null  int64  \n",
      " 1   Pclass    100000 non-null  int64  \n",
      " 2   Name      100000 non-null  object \n",
      " 3   Sex       100000 non-null  object \n",
      " 4   Age       96708 non-null   float64\n",
      " 5   SibSp     100000 non-null  int64  \n",
      " 6   Parch     100000 non-null  int64  \n",
      " 7   Ticket    95377 non-null   object \n",
      " 8   Fare      99866 non-null   float64\n",
      " 9   Cabin     32134 non-null   object \n",
      " 10  Embarked  99750 non-null   object \n",
      "dtypes: float64(2), int64(4), object(5)\n",
      "memory usage: 9.2+ MB\n"
     ]
    }
   ],
   "source": [
    "titanic_data.info()"
   ]
  },
  {
   "cell_type": "markdown",
   "id": "22883c2d",
   "metadata": {},
   "source": [
    "# Data Quality Assesment"
   ]
  },
  {
   "cell_type": "code",
   "execution_count": 351,
   "id": "d7980647",
   "metadata": {},
   "outputs": [
    {
     "data": {
      "text/plain": [
       "False"
      ]
     },
     "execution_count": 351,
     "metadata": {},
     "output_type": "execute_result"
    }
   ],
   "source": [
    "titanic_data.duplicated().any()"
   ]
  },
  {
   "cell_type": "markdown",
   "id": "ac569b0c",
   "metadata": {},
   "source": [
    "Дупликатов в датасете нет"
   ]
  },
  {
   "cell_type": "code",
   "execution_count": 181,
   "id": "a5c48455",
   "metadata": {},
   "outputs": [
    {
     "data": {
      "text/plain": [
       "Survived        0\n",
       "Pclass          0\n",
       "Name            0\n",
       "Sex             0\n",
       "Age          3292\n",
       "SibSp           0\n",
       "Parch           0\n",
       "Ticket       4623\n",
       "Fare          134\n",
       "Cabin       67866\n",
       "Embarked      250\n",
       "dtype: int64"
      ]
     },
     "execution_count": 181,
     "metadata": {},
     "output_type": "execute_result"
    }
   ],
   "source": [
    "titanic_data.isnull().sum()"
   ]
  },
  {
   "cell_type": "markdown",
   "id": "503f8858",
   "metadata": {},
   "source": [
    "Мы видим, что есть пропущенные значения в колонках \"Age\", \"Ticket\", \"Fare\", \"Embarked\". В колонке \"Cabin\" отсутствует более двух третих значений, поэтому пока непонятно, сможем ли мы в принципе использовать этот признак для дальнейшнего анализа."
   ]
  },
  {
   "cell_type": "markdown",
   "id": "a7c43bc3",
   "metadata": {},
   "source": [
    "### Age\n",
    "\n",
    "Рассмотрим колонку \"Age\" и подумаем, каким образом можно заполнить пропущенные значения."
   ]
  },
  {
   "cell_type": "code",
   "execution_count": 182,
   "id": "09e931f7",
   "metadata": {},
   "outputs": [
    {
     "data": {
      "text/plain": [
       "38.35547214294576"
      ]
     },
     "execution_count": 182,
     "metadata": {},
     "output_type": "execute_result"
    }
   ],
   "source": [
    "titanic_data['Age'].mean()"
   ]
  },
  {
   "cell_type": "markdown",
   "id": "1992eafb",
   "metadata": {},
   "source": [
    "Средний возраст пассажиров Титаника 38.35 лет. Можно заменить пропущенные значения средним возрастом, но можно рассмотреть и чуть более сложную замену. Посмотрим на средний возраст по классам пассажиров:"
   ]
  },
  {
   "cell_type": "code",
   "execution_count": 183,
   "id": "53d962d9",
   "metadata": {},
   "outputs": [
    {
     "data": {
      "text/plain": [
       "Pclass\n",
       "1    44.774464\n",
       "2    38.631237\n",
       "3    33.407362\n",
       "Name: Age, dtype: float64"
      ]
     },
     "execution_count": 183,
     "metadata": {},
     "output_type": "execute_result"
    }
   ],
   "source": [
    "mean_age_per_class = titanic_data.groupby(['Pclass'])['Age'].mean()\n",
    "mean_age_per_class"
   ]
  },
  {
   "cell_type": "markdown",
   "id": "85e56eda",
   "metadata": {},
   "source": [
    "Мы видим, что чем выше класс пассажира, тем он старше (что, в принципе, логично). Если на место пропущенного возраста вставить средний возраст пассажиров соответсвующего класса, замена получится все-таки чуть более изящной, хоть и далекой от идеала."
   ]
  },
  {
   "cell_type": "code",
   "execution_count": 184,
   "id": "a977c91c",
   "metadata": {},
   "outputs": [
    {
     "data": {
      "text/plain": [
       "array([1, 3, 2], dtype=int64)"
      ]
     },
     "execution_count": 184,
     "metadata": {},
     "output_type": "execute_result"
    }
   ],
   "source": [
    "titanic_data['Pclass'].unique()"
   ]
  },
  {
   "cell_type": "code",
   "execution_count": 185,
   "id": "71a4bab1",
   "metadata": {},
   "outputs": [],
   "source": [
    "for Pclass in titanic_data['Pclass'].unique():\n",
    "    titanic_data.loc[(titanic_data['Age'].isna()) & (titanic_data['Pclass'] == Pclass),'Age'] = mean_age_per_class[Pclass]"
   ]
  },
  {
   "cell_type": "markdown",
   "id": "ffee1795",
   "metadata": {},
   "source": [
    "### Ticket"
   ]
  },
  {
   "cell_type": "code",
   "execution_count": 186,
   "id": "4fc7762d",
   "metadata": {},
   "outputs": [
    {
     "data": {
      "text/plain": [
       "A/5            602\n",
       "C.A.           177\n",
       "SC/PARIS       145\n",
       "SOTON/O.Q.      80\n",
       "SC              57\n",
       "              ... \n",
       "186702           1\n",
       "419665           1\n",
       "371545           1\n",
       "193193           1\n",
       "221532           1\n",
       "Name: Ticket, Length: 75331, dtype: int64"
      ]
     },
     "execution_count": 186,
     "metadata": {},
     "output_type": "execute_result"
    }
   ],
   "source": [
    "titanic_data['Ticket'].value_counts()"
   ]
  },
  {
   "cell_type": "markdown",
   "id": "25f2b191",
   "metadata": {},
   "source": [
    "Мы видим, что номера билетов не только не уникальные, но и не следуют какой-либо схеме. Есть как номера из букв (SC/PARIS) и цифр (221532), так и из их комбинаций (А/5).\n",
    "Здесь сложно увидеть какую-то логику, поэтому использование этого признака для анализа остается под сомнением."
   ]
  },
  {
   "cell_type": "markdown",
   "id": "c72e82e4",
   "metadata": {},
   "source": [
    "### Embarked\n",
    "\n",
    "Посмотрим, откуда чаще всего отправлялись пассажиры."
   ]
  },
  {
   "cell_type": "code",
   "execution_count": 187,
   "id": "80da8aff",
   "metadata": {},
   "outputs": [
    {
     "data": {
      "text/html": [
       "<div>\n",
       "<style scoped>\n",
       "    .dataframe tbody tr th:only-of-type {\n",
       "        vertical-align: middle;\n",
       "    }\n",
       "\n",
       "    .dataframe tbody tr th {\n",
       "        vertical-align: top;\n",
       "    }\n",
       "\n",
       "    .dataframe thead th {\n",
       "        text-align: right;\n",
       "    }\n",
       "</style>\n",
       "<table border=\"1\" class=\"dataframe\">\n",
       "  <thead>\n",
       "    <tr style=\"text-align: right;\">\n",
       "      <th></th>\n",
       "      <th></th>\n",
       "      <th>Survived</th>\n",
       "      <th>Name</th>\n",
       "      <th>Sex</th>\n",
       "      <th>Age</th>\n",
       "      <th>SibSp</th>\n",
       "      <th>Parch</th>\n",
       "      <th>Ticket</th>\n",
       "      <th>Fare</th>\n",
       "      <th>Cabin</th>\n",
       "    </tr>\n",
       "    <tr>\n",
       "      <th>Pclass</th>\n",
       "      <th>Embarked</th>\n",
       "      <th></th>\n",
       "      <th></th>\n",
       "      <th></th>\n",
       "      <th></th>\n",
       "      <th></th>\n",
       "      <th></th>\n",
       "      <th></th>\n",
       "      <th></th>\n",
       "      <th></th>\n",
       "    </tr>\n",
       "  </thead>\n",
       "  <tbody>\n",
       "    <tr>\n",
       "      <th rowspan=\"3\" valign=\"top\">1</th>\n",
       "      <th>C</th>\n",
       "      <td>11843</td>\n",
       "      <td>11843</td>\n",
       "      <td>11843</td>\n",
       "      <td>11843</td>\n",
       "      <td>11843</td>\n",
       "      <td>11843</td>\n",
       "      <td>11836</td>\n",
       "      <td>11825</td>\n",
       "      <td>11039</td>\n",
       "    </tr>\n",
       "    <tr>\n",
       "      <th>Q</th>\n",
       "      <td>3751</td>\n",
       "      <td>3751</td>\n",
       "      <td>3751</td>\n",
       "      <td>3751</td>\n",
       "      <td>3751</td>\n",
       "      <td>3751</td>\n",
       "      <td>3750</td>\n",
       "      <td>3746</td>\n",
       "      <td>3622</td>\n",
       "    </tr>\n",
       "    <tr>\n",
       "      <th>S</th>\n",
       "      <td>14635</td>\n",
       "      <td>14635</td>\n",
       "      <td>14635</td>\n",
       "      <td>14635</td>\n",
       "      <td>14635</td>\n",
       "      <td>14635</td>\n",
       "      <td>14616</td>\n",
       "      <td>14618</td>\n",
       "      <td>11726</td>\n",
       "    </tr>\n",
       "    <tr>\n",
       "      <th rowspan=\"3\" valign=\"top\">2</th>\n",
       "      <th>C</th>\n",
       "      <td>6156</td>\n",
       "      <td>6156</td>\n",
       "      <td>6156</td>\n",
       "      <td>6156</td>\n",
       "      <td>6156</td>\n",
       "      <td>6156</td>\n",
       "      <td>6093</td>\n",
       "      <td>6146</td>\n",
       "      <td>1402</td>\n",
       "    </tr>\n",
       "    <tr>\n",
       "      <th>Q</th>\n",
       "      <td>844</td>\n",
       "      <td>844</td>\n",
       "      <td>844</td>\n",
       "      <td>844</td>\n",
       "      <td>844</td>\n",
       "      <td>844</td>\n",
       "      <td>837</td>\n",
       "      <td>841</td>\n",
       "      <td>267</td>\n",
       "    </tr>\n",
       "    <tr>\n",
       "      <th>S</th>\n",
       "      <td>21609</td>\n",
       "      <td>21609</td>\n",
       "      <td>21609</td>\n",
       "      <td>21609</td>\n",
       "      <td>21609</td>\n",
       "      <td>21609</td>\n",
       "      <td>20856</td>\n",
       "      <td>21581</td>\n",
       "      <td>1846</td>\n",
       "    </tr>\n",
       "    <tr>\n",
       "      <th rowspan=\"3\" valign=\"top\">3</th>\n",
       "      <th>C</th>\n",
       "      <td>4188</td>\n",
       "      <td>4188</td>\n",
       "      <td>4188</td>\n",
       "      <td>4188</td>\n",
       "      <td>4188</td>\n",
       "      <td>4188</td>\n",
       "      <td>4020</td>\n",
       "      <td>4183</td>\n",
       "      <td>538</td>\n",
       "    </tr>\n",
       "    <tr>\n",
       "      <th>Q</th>\n",
       "      <td>829</td>\n",
       "      <td>829</td>\n",
       "      <td>829</td>\n",
       "      <td>829</td>\n",
       "      <td>829</td>\n",
       "      <td>829</td>\n",
       "      <td>782</td>\n",
       "      <td>829</td>\n",
       "      <td>133</td>\n",
       "    </tr>\n",
       "    <tr>\n",
       "      <th>S</th>\n",
       "      <td>35895</td>\n",
       "      <td>35895</td>\n",
       "      <td>35895</td>\n",
       "      <td>35895</td>\n",
       "      <td>35895</td>\n",
       "      <td>35895</td>\n",
       "      <td>32346</td>\n",
       "      <td>35848</td>\n",
       "      <td>1473</td>\n",
       "    </tr>\n",
       "  </tbody>\n",
       "</table>\n",
       "</div>"
      ],
      "text/plain": [
       "                 Survived   Name    Sex    Age  SibSp  Parch  Ticket   Fare  \\\n",
       "Pclass Embarked                                                               \n",
       "1      C            11843  11843  11843  11843  11843  11843   11836  11825   \n",
       "       Q             3751   3751   3751   3751   3751   3751    3750   3746   \n",
       "       S            14635  14635  14635  14635  14635  14635   14616  14618   \n",
       "2      C             6156   6156   6156   6156   6156   6156    6093   6146   \n",
       "       Q              844    844    844    844    844    844     837    841   \n",
       "       S            21609  21609  21609  21609  21609  21609   20856  21581   \n",
       "3      C             4188   4188   4188   4188   4188   4188    4020   4183   \n",
       "       Q              829    829    829    829    829    829     782    829   \n",
       "       S            35895  35895  35895  35895  35895  35895   32346  35848   \n",
       "\n",
       "                 Cabin  \n",
       "Pclass Embarked         \n",
       "1      C         11039  \n",
       "       Q          3622  \n",
       "       S         11726  \n",
       "2      C          1402  \n",
       "       Q           267  \n",
       "       S          1846  \n",
       "3      C           538  \n",
       "       Q           133  \n",
       "       S          1473  "
      ]
     },
     "execution_count": 187,
     "metadata": {},
     "output_type": "execute_result"
    }
   ],
   "source": [
    "titanic_data.groupby(['Pclass','Embarked']).count()"
   ]
  },
  {
   "cell_type": "markdown",
   "id": "ed270eed",
   "metadata": {},
   "source": [
    "Мы видим, что большинство пассажиров, независимо от класса, садились на корабль из порта \"S\". Так как пропущенных значений в колонке \"Embarked\" не так много, можно спокойно заменить их на \"S\"."
   ]
  },
  {
   "cell_type": "code",
   "execution_count": 188,
   "id": "b26e454f",
   "metadata": {},
   "outputs": [],
   "source": [
    "titanic_data.loc[titanic_data['Embarked'].isna(),'Embarked'] = 'S'"
   ]
  },
  {
   "cell_type": "markdown",
   "id": "9cb70e42",
   "metadata": {},
   "source": [
    "### Cabin\n",
    "\n",
    "Известных номеров кают не так много, но в них хранится такая информация, как этаж и борт. Можно попытаться её извлечь и на этапе анализа посмjтреть, какова связь между этажом и бортом, где располагалась каюта, и выживаемостью пассажира. "
   ]
  },
  {
   "cell_type": "code",
   "execution_count": 189,
   "id": "c6bcb284",
   "metadata": {},
   "outputs": [
    {
     "data": {
      "text/plain": [
       "C    11825\n",
       "B     7439\n",
       "A     6307\n",
       "D     3637\n",
       "E     1749\n",
       "F      663\n",
       "G      482\n",
       "T       32\n",
       "Name: Deck, dtype: int64"
      ]
     },
     "execution_count": 189,
     "metadata": {},
     "output_type": "execute_result"
    }
   ],
   "source": [
    "titanic_data['Deck'] = np.nan\n",
    "titanic_data.loc[titanic_data['Cabin'].notna(),'Deck'] = titanic_data.loc[titanic_data['Cabin'].notna(),'Cabin'].apply(lambda x : str(x)[0]) \n",
    "titanic_data['Deck'].value_counts()"
   ]
  },
  {
   "cell_type": "code",
   "execution_count": 190,
   "id": "77f64484",
   "metadata": {},
   "outputs": [
    {
     "data": {
      "text/plain": [
       "True     16123\n",
       "False    16011\n",
       "Name: Board, dtype: int64"
      ]
     },
     "execution_count": 190,
     "metadata": {},
     "output_type": "execute_result"
    }
   ],
   "source": [
    "titanic_data['Board'] = np.nan\n",
    "titanic_data.loc[titanic_data['Cabin'].notna(),'Board'] = titanic_data.loc[titanic_data['Cabin'].notna(),'Cabin'].apply(lambda x : int(str(x)[-1]) % 2 == 1) \n",
    "titanic_data['Board'].value_counts()"
   ]
  },
  {
   "cell_type": "code",
   "execution_count": 191,
   "id": "c8587a60",
   "metadata": {},
   "outputs": [
    {
     "data": {
      "text/plain": [
       "Survived        0\n",
       "Pclass          0\n",
       "Name            0\n",
       "Sex             0\n",
       "Age             0\n",
       "SibSp           0\n",
       "Parch           0\n",
       "Ticket       4623\n",
       "Fare          134\n",
       "Cabin       67866\n",
       "Embarked        0\n",
       "Deck        67866\n",
       "Board       67866\n",
       "dtype: int64"
      ]
     },
     "execution_count": 191,
     "metadata": {},
     "output_type": "execute_result"
    }
   ],
   "source": [
    "titanic_data.isnull().sum()"
   ]
  },
  {
   "cell_type": "markdown",
   "id": "6ad2ce4e",
   "metadata": {},
   "source": [
    "### Fare\n",
    "\n",
    "Выдвинем предположение, что цену билета для каждого пассажира, у которого этот признак пропущен, можно заменить средней ценой билета пассажиров соответсвующего класса."
   ]
  },
  {
   "cell_type": "code",
   "execution_count": 192,
   "id": "a5fac139",
   "metadata": {},
   "outputs": [
    {
     "data": {
      "text/html": [
       "<div>\n",
       "<style scoped>\n",
       "    .dataframe tbody tr th:only-of-type {\n",
       "        vertical-align: middle;\n",
       "    }\n",
       "\n",
       "    .dataframe tbody tr th {\n",
       "        vertical-align: top;\n",
       "    }\n",
       "\n",
       "    .dataframe thead tr th {\n",
       "        text-align: left;\n",
       "    }\n",
       "\n",
       "    .dataframe thead tr:last-of-type th {\n",
       "        text-align: right;\n",
       "    }\n",
       "</style>\n",
       "<table border=\"1\" class=\"dataframe\">\n",
       "  <thead>\n",
       "    <tr>\n",
       "      <th></th>\n",
       "      <th colspan=\"3\" halign=\"left\">Fare</th>\n",
       "    </tr>\n",
       "    <tr>\n",
       "      <th></th>\n",
       "      <th>min</th>\n",
       "      <th>max</th>\n",
       "      <th>mean</th>\n",
       "    </tr>\n",
       "    <tr>\n",
       "      <th>Pclass</th>\n",
       "      <th></th>\n",
       "      <th></th>\n",
       "      <th></th>\n",
       "    </tr>\n",
       "  </thead>\n",
       "  <tbody>\n",
       "    <tr>\n",
       "      <th>1</th>\n",
       "      <td>3.38</td>\n",
       "      <td>744.66</td>\n",
       "      <td>92.653113</td>\n",
       "    </tr>\n",
       "    <tr>\n",
       "      <th>2</th>\n",
       "      <td>1.72</td>\n",
       "      <td>613.43</td>\n",
       "      <td>25.756003</td>\n",
       "    </tr>\n",
       "    <tr>\n",
       "      <th>3</th>\n",
       "      <td>0.68</td>\n",
       "      <td>640.79</td>\n",
       "      <td>20.618226</td>\n",
       "    </tr>\n",
       "  </tbody>\n",
       "</table>\n",
       "</div>"
      ],
      "text/plain": [
       "        Fare                   \n",
       "         min     max       mean\n",
       "Pclass                         \n",
       "1       3.38  744.66  92.653113\n",
       "2       1.72  613.43  25.756003\n",
       "3       0.68  640.79  20.618226"
      ]
     },
     "execution_count": 192,
     "metadata": {},
     "output_type": "execute_result"
    }
   ],
   "source": [
    "titanic_data.groupby(['Pclass']).agg({'Fare' : ['min' ,'max', 'mean']})"
   ]
  },
  {
   "cell_type": "markdown",
   "id": "e5c5b5f7",
   "metadata": {},
   "source": [
    "Мы видим, что максимальные и минимальные значения у всех трех классов отличаются не так значительно, как можно было бы предположить. Исследуем с помощью графиков boxplot распределения цен на билеты между разными классами."
   ]
  },
  {
   "cell_type": "code",
   "execution_count": 193,
   "id": "beba3c14",
   "metadata": {},
   "outputs": [
    {
     "data": {
      "text/plain": [
       "<AxesSubplot:xlabel='Pclass', ylabel='Fare'>"
      ]
     },
     "execution_count": 193,
     "metadata": {},
     "output_type": "execute_result"
    },
    {
     "data": {
      "image/png": "[encoded data removed]",
      "text/plain": [
       "<Figure size 432x288 with 1 Axes>"
      ]
     },
     "metadata": {
      "needs_background": "light"
     },
     "output_type": "display_data"
    }
   ],
   "source": [
    "sns.boxplot(x='Pclass', y='Fare', data=titanic_data)"
   ]
  },
  {
   "cell_type": "markdown",
   "id": "58a70e4e",
   "metadata": {},
   "source": [
    "Невооруженным глазом видно огромное количество выбросов, которое, ествественно повлияло на среднюю цену билета. Тогда можно предположить, что корректнее заменить пропущенные значения цен билетов не средним, а модой или медианой."
   ]
  },
  {
   "cell_type": "code",
   "execution_count": 194,
   "id": "c0bbc7f2",
   "metadata": {},
   "outputs": [
    {
     "data": {
      "text/html": [
       "<div>\n",
       "<style scoped>\n",
       "    .dataframe tbody tr th:only-of-type {\n",
       "        vertical-align: middle;\n",
       "    }\n",
       "\n",
       "    .dataframe tbody tr th {\n",
       "        vertical-align: top;\n",
       "    }\n",
       "\n",
       "    .dataframe thead tr th {\n",
       "        text-align: left;\n",
       "    }\n",
       "\n",
       "    .dataframe thead tr:last-of-type th {\n",
       "        text-align: right;\n",
       "    }\n",
       "</style>\n",
       "<table border=\"1\" class=\"dataframe\">\n",
       "  <thead>\n",
       "    <tr>\n",
       "      <th></th>\n",
       "      <th colspan=\"2\" halign=\"left\">Fare</th>\n",
       "    </tr>\n",
       "    <tr>\n",
       "      <th></th>\n",
       "      <th>median</th>\n",
       "      <th>mode</th>\n",
       "    </tr>\n",
       "    <tr>\n",
       "      <th>Pclass</th>\n",
       "      <th></th>\n",
       "      <th></th>\n",
       "    </tr>\n",
       "  </thead>\n",
       "  <tbody>\n",
       "    <tr>\n",
       "      <th>1</th>\n",
       "      <td>63.58</td>\n",
       "      <td>28.88</td>\n",
       "    </tr>\n",
       "    <tr>\n",
       "      <th>2</th>\n",
       "      <td>22.72</td>\n",
       "      <td>9.57</td>\n",
       "    </tr>\n",
       "    <tr>\n",
       "      <th>3</th>\n",
       "      <td>10.96</td>\n",
       "      <td>8.30</td>\n",
       "    </tr>\n",
       "  </tbody>\n",
       "</table>\n",
       "</div>"
      ],
      "text/plain": [
       "         Fare       \n",
       "       median   mode\n",
       "Pclass              \n",
       "1       63.58  28.88\n",
       "2       22.72   9.57\n",
       "3       10.96   8.30"
      ]
     },
     "execution_count": 194,
     "metadata": {},
     "output_type": "execute_result"
    }
   ],
   "source": [
    "titanic_data.groupby(['Pclass']).agg({'Fare' : [np.median, pd.Series.mode]})"
   ]
  },
  {
   "cell_type": "markdown",
   "id": "830f12de",
   "metadata": {},
   "source": [
    "На мой взгляд, медиана позволит более точно заполнить пропущенные значение цен на билеты."
   ]
  },
  {
   "cell_type": "code",
   "execution_count": 195,
   "id": "0164df81",
   "metadata": {},
   "outputs": [
    {
     "data": {
      "text/plain": [
       "Pclass\n",
       "1    63.58\n",
       "2    22.72\n",
       "3    10.96\n",
       "Name: Fare, dtype: float64"
      ]
     },
     "execution_count": 195,
     "metadata": {},
     "output_type": "execute_result"
    }
   ],
   "source": [
    "medians = titanic_data.groupby(['Pclass'])['Fare'].median()\n",
    "medians"
   ]
  },
  {
   "cell_type": "code",
   "execution_count": 196,
   "id": "60d9c46b",
   "metadata": {},
   "outputs": [],
   "source": [
    "for Pclass in titanic_data['Pclass'].unique():\n",
    "    titanic_data.loc[(titanic_data['Fare'].isna()) & (titanic_data['Pclass'] == Pclass),'Fare'] = medians[Pclass]"
   ]
  },
  {
   "cell_type": "markdown",
   "id": "5fcab686",
   "metadata": {},
   "source": [
    "### Итоги"
   ]
  },
  {
   "cell_type": "code",
   "execution_count": 197,
   "id": "e8460733",
   "metadata": {},
   "outputs": [
    {
     "data": {
      "text/plain": [
       "Survived        0\n",
       "Pclass          0\n",
       "Name            0\n",
       "Sex             0\n",
       "Age             0\n",
       "SibSp           0\n",
       "Parch           0\n",
       "Ticket       4623\n",
       "Fare            0\n",
       "Cabin       67866\n",
       "Embarked        0\n",
       "Deck        67866\n",
       "Board       67866\n",
       "dtype: int64"
      ]
     },
     "execution_count": 197,
     "metadata": {},
     "output_type": "execute_result"
    }
   ],
   "source": [
    "titanic_data.isnull().sum()"
   ]
  },
  {
   "cell_type": "markdown",
   "id": "f12fd6dc",
   "metadata": {},
   "source": [
    "Были заменены все пропущенные значения празнаков \"Age\", \"Fare\", \"Embarked\", также были сгенерированы два новых признака \"Board\" и \"Deck\"."
   ]
  },
  {
   "cell_type": "markdown",
   "id": "e67bd3b5",
   "metadata": {},
   "source": [
    "# Data Exploration"
   ]
  },
  {
   "cell_type": "markdown",
   "id": "36d14d7c",
   "metadata": {},
   "source": [
    "## Одномерный анализ\n",
    "\n",
    "Рассмотрим каждый признак по отдельности"
   ]
  },
  {
   "cell_type": "markdown",
   "id": "845d8919",
   "metadata": {},
   "source": [
    "### Survived"
   ]
  },
  {
   "cell_type": "code",
   "execution_count": 198,
   "id": "d96fb54a",
   "metadata": {},
   "outputs": [
    {
     "name": "stdout",
     "output_type": "stream",
     "text": [
      "Выжили 42.774% пассажиров.\n"
     ]
    },
    {
     "data": {
      "image/png": "[encoded data removed]",
      "text/plain": [
       "<Figure size 432x288 with 1 Axes>"
      ]
     },
     "metadata": {
      "needs_background": "light"
     },
     "output_type": "display_data"
    }
   ],
   "source": [
    "sns.countplot(x='Survived',data=titanic_data)\n",
    "print(\"Выжили {}% пассажиров.\".format(titanic_data[titanic_data['Survived'] == 1].shape[0] / titanic_data.shape[0]*100))"
   ]
  },
  {
   "cell_type": "markdown",
   "id": "6e01cc4d",
   "metadata": {},
   "source": [
    "### Pclass\n",
    "\n",
    "Класс обслуживания пассажиров (где 1-ый класс - наивысший)"
   ]
  },
  {
   "cell_type": "code",
   "execution_count": 199,
   "id": "3dbcc9e6",
   "metadata": {},
   "outputs": [
    {
     "data": {
      "text/plain": [
       "<AxesSubplot:xlabel='Pclass', ylabel='count'>"
      ]
     },
     "execution_count": 199,
     "metadata": {},
     "output_type": "execute_result"
    },
    {
     "data": {
      "image/png": "[encoded data removed]",
      "text/plain": [
       "<Figure size 432x288 with 1 Axes>"
      ]
     },
     "metadata": {
      "needs_background": "light"
     },
     "output_type": "display_data"
    }
   ],
   "source": [
    "sns.countplot(x='Pclass',data=titanic_data)"
   ]
  },
  {
   "cell_type": "markdown",
   "id": "c4a735d4",
   "metadata": {},
   "source": [
    "Мы видим, что представителей третьего (самого низкого) класса обслуживания больше всего. Запомним этот факт для дальнейшего анализа."
   ]
  },
  {
   "cell_type": "markdown",
   "id": "2bd60982",
   "metadata": {},
   "source": [
    "### Name\n",
    "\n",
    "В оригинальном датасете Титаника в имена включены такие обращения, как мистер, мисс и т.д. Из них можно было делать некие выводы о статусе или возрасте пассажира. В данном же датасете такие обращения опущены:"
   ]
  },
  {
   "cell_type": "code",
   "execution_count": 200,
   "id": "cd04dd5f",
   "metadata": {},
   "outputs": [
    {
     "data": {
      "text/plain": [
       "0"
      ]
     },
     "execution_count": 200,
     "metadata": {},
     "output_type": "execute_result"
    }
   ],
   "source": [
    "titanic_data[titanic_data['Name'].str.find('Miss ') != -1].count().sum() + \\\n",
    "titanic_data[titanic_data['Name'].str.find('Mr ') != -1].count().sum() + \\\n",
    "titanic_data[titanic_data['Name'].str.find('Mrs ') != -1].count().sum() + \\\n",
    "titanic_data[titanic_data['Name'].str.find('Ms ') != -1].count().sum() + \\\n",
    "titanic_data[titanic_data['Name'].str.find('Don ') != -1].count().sum()"
   ]
  },
  {
   "cell_type": "markdown",
   "id": "d5511aaf",
   "metadata": {},
   "source": [
    "Ни одного пассажира с обращениями Мисс, Миссис и т.д. среди наших данных."
   ]
  },
  {
   "cell_type": "markdown",
   "id": "c038b90b",
   "metadata": {},
   "source": [
    "### Sex\n",
    "\n",
    "Пол пассажира"
   ]
  },
  {
   "cell_type": "code",
   "execution_count": 201,
   "id": "d50bb00b",
   "metadata": {},
   "outputs": [
    {
     "data": {
      "text/plain": [
       "<AxesSubplot:xlabel='Sex', ylabel='count'>"
      ]
     },
     "execution_count": 201,
     "metadata": {},
     "output_type": "execute_result"
    },
    {
     "data": {
      "image/png": "[encoded data removed]",
      "text/plain": [
       "<Figure size 432x288 with 1 Axes>"
      ]
     },
     "metadata": {
      "needs_background": "light"
     },
     "output_type": "display_data"
    }
   ],
   "source": [
    "sns.countplot(x='Sex',data=titanic_data,)"
   ]
  },
  {
   "cell_type": "code",
   "execution_count": 202,
   "id": "383ffaf2",
   "metadata": {},
   "outputs": [
    {
     "name": "stdout",
     "output_type": "stream",
     "text": [
      "На корабле было 43.89% женщин и 56.11% мужчин.\n"
     ]
    }
   ],
   "source": [
    "fem_percent = titanic_data[titanic_data['Sex'] == 'female'].shape[0] / titanic_data.shape[0]*100\n",
    "print(\"На корабле было %.2f%% женщин и %.2f%% мужчин.\"%(fem_percent, 100 - fem_percent))"
   ]
  },
  {
   "cell_type": "markdown",
   "id": "204cd23f",
   "metadata": {},
   "source": [
    "### Age"
   ]
  },
  {
   "cell_type": "code",
   "execution_count": 203,
   "id": "7ee8ed4b",
   "metadata": {},
   "outputs": [
    {
     "data": {
      "text/plain": [
       "<AxesSubplot:xlabel='Age', ylabel='Count'>"
      ]
     },
     "execution_count": 203,
     "metadata": {},
     "output_type": "execute_result"
    },
    {
     "data": {
      "image/png": "[encoded data removed]",
      "text/plain": [
       "<Figure size 432x288 with 1 Axes>"
      ]
     },
     "metadata": {
      "needs_background": "light"
     },
     "output_type": "display_data"
    }
   ],
   "source": [
    "sns.histplot(data=titanic_data, x = 'Age', bins = 20, kde=True)"
   ]
  },
  {
   "cell_type": "markdown",
   "id": "6d8b4627",
   "metadata": {},
   "source": [
    "Мы видим, что основную популяцию пассажиров корабля составляли молодые люди около 20 лет, также взрослые от 30 до 60. Можно также отметить достаточно большое количество детей до 10 лет."
   ]
  },
  {
   "cell_type": "code",
   "execution_count": 204,
   "id": "41b36250",
   "metadata": {},
   "outputs": [
    {
     "data": {
      "text/plain": [
       "count    100000.000000\n",
       "mean         38.351454\n",
       "std          18.029996\n",
       "min           0.080000\n",
       "25%          25.000000\n",
       "50%          38.631237\n",
       "75%          53.000000\n",
       "max          87.000000\n",
       "Name: Age, dtype: float64"
      ]
     },
     "execution_count": 204,
     "metadata": {},
     "output_type": "execute_result"
    }
   ],
   "source": [
    "titanic_data['Age'].describe()"
   ]
  },
  {
   "cell_type": "markdown",
   "id": "c7c0c239",
   "metadata": {},
   "source": [
    "Самому маленькому пассажиру было 0.08 года - это примерно 1 месяц. Самому пожилому - 87 лет. Средний возраст пассажиров - 38.35 лет, медиана - 38.6."
   ]
  },
  {
   "cell_type": "markdown",
   "id": "acb0fa9c",
   "metadata": {},
   "source": [
    "### SibSp\n",
    "\n",
    "Общее количество братьев, сестер и супруг(а) для пассажира"
   ]
  },
  {
   "cell_type": "code",
   "execution_count": 205,
   "id": "f6bf37af",
   "metadata": {},
   "outputs": [
    {
     "data": {
      "text/plain": [
       "<AxesSubplot:ylabel='Frequency'>"
      ]
     },
     "execution_count": 205,
     "metadata": {},
     "output_type": "execute_result"
    },
    {
     "data": {
      "image/png": "[encoded data removed]",
      "text/plain": [
       "<Figure size 432x288 with 1 Axes>"
      ]
     },
     "metadata": {
      "needs_background": "light"
     },
     "output_type": "display_data"
    }
   ],
   "source": [
    "titanic_data['SibSp'].plot(kind='hist')"
   ]
  },
  {
   "cell_type": "markdown",
   "id": "95b55dea",
   "metadata": {},
   "source": [
    "Мы видим, что большинство пассажиров путешествовали без братьев, сестер и супруг(ов), но есть были и пассажиры, путешествующие в компании еще 8 человек"
   ]
  },
  {
   "cell_type": "markdown",
   "id": "80e1f424",
   "metadata": {},
   "source": [
    "### Parch\n",
    "\n",
    "Общее количество родителей + детей пассажира"
   ]
  },
  {
   "cell_type": "code",
   "execution_count": 206,
   "id": "9a54fb72",
   "metadata": {},
   "outputs": [
    {
     "data": {
      "text/plain": [
       "<AxesSubplot:ylabel='Frequency'>"
      ]
     },
     "execution_count": 206,
     "metadata": {},
     "output_type": "execute_result"
    },
    {
     "data": {
      "image/png": "[encoded data removed]",
      "text/plain": [
       "<Figure size 432x288 with 1 Axes>"
      ]
     },
     "metadata": {
      "needs_background": "light"
     },
     "output_type": "display_data"
    }
   ],
   "source": [
    "titanic_data['Parch'].plot(kind='hist')"
   ]
  },
  {
   "cell_type": "markdown",
   "id": "3deecb4a",
   "metadata": {},
   "source": [
    "Большинство пассажиров путешествовали без родителей и детей (напомним, что большую часть пассажиров составляли молодые люди около 20 лет, которые уже достаточно самостоятельны, чтобы путешествовать без родителей, но еще не завели детей, а также взрослые люди 40-60 лет, дети которых уже выросли и их необязательно брать с собой). "
   ]
  },
  {
   "cell_type": "markdown",
   "id": "8bc23b12",
   "metadata": {},
   "source": [
    "### Parch + SibSP\n",
    "\n",
    "Суммируем количество членов семьи для каждого пассажира в один признак и проанализируем его:"
   ]
  },
  {
   "cell_type": "code",
   "execution_count": 234,
   "id": "733947f5",
   "metadata": {},
   "outputs": [
    {
     "data": {
      "text/plain": [
       "(0.0, 16.0)"
      ]
     },
     "execution_count": 234,
     "metadata": {},
     "output_type": "execute_result"
    },
    {
     "data": {
      "image/png": "[encoded data removed]",
      "text/plain": [
       "<Figure size 432x288 with 1 Axes>"
      ]
     },
     "metadata": {
      "needs_background": "light"
     },
     "output_type": "display_data"
    }
   ],
   "source": [
    "titanic_data['FemMem'] = titanic_data['SibSp'] + titanic_data['Parch']\n",
    "titanic_data['FemMem'].plot(kind='hist').set_xlim(0,16)"
   ]
  },
  {
   "cell_type": "markdown",
   "id": "66dd4833",
   "metadata": {},
   "source": [
    "Данный график подтверждает, что большинство пассажиров путешествовали без членов семьи"
   ]
  },
  {
   "cell_type": "markdown",
   "id": "dd06a523",
   "metadata": {},
   "source": [
    "### Ticket\n",
    "\n",
    "Этот признак мы в анализе опустим, т.к. на мой взгляд, он не имеет связи с иными празнаками."
   ]
  },
  {
   "cell_type": "markdown",
   "id": "3cb446a9",
   "metadata": {},
   "source": [
    "### Fare"
   ]
  },
  {
   "cell_type": "code",
   "execution_count": 207,
   "id": "1e3ca130",
   "metadata": {},
   "outputs": [
    {
     "data": {
      "text/plain": [
       "<AxesSubplot:xlabel='Fare', ylabel='Count'>"
      ]
     },
     "execution_count": 207,
     "metadata": {},
     "output_type": "execute_result"
    },
    {
     "data": {
      "image/png": "[encoded data removed]",
      "text/plain": [
       "<Figure size 432x288 with 1 Axes>"
      ]
     },
     "metadata": {
      "needs_background": "light"
     },
     "output_type": "display_data"
    }
   ],
   "source": [
    "sns.histplot(data=titanic_data, x = 'Fare',bins=50, kde=True)"
   ]
  },
  {
   "cell_type": "markdown",
   "id": "c922c198",
   "metadata": {},
   "source": [
    "Мы видим, что у распределения цен на билеты очень длинный правый хвост - много дорогих билетов от 300 до 700. Большинство же пассажиров заплатили сумму от 0 до 100 денежных единиц."
   ]
  },
  {
   "cell_type": "code",
   "execution_count": 208,
   "id": "87b70ea8",
   "metadata": {},
   "outputs": [
    {
     "data": {
      "text/plain": [
       "count    100000.000000\n",
       "mean         43.911139\n",
       "std          69.548710\n",
       "min           0.680000\n",
       "25%          10.040000\n",
       "50%          24.450000\n",
       "75%          33.500000\n",
       "max         744.660000\n",
       "Name: Fare, dtype: float64"
      ]
     },
     "execution_count": 208,
     "metadata": {},
     "output_type": "execute_result"
    }
   ],
   "source": [
    "titanic_data['Fare'].describe()"
   ]
  },
  {
   "cell_type": "markdown",
   "id": "f72dccab",
   "metadata": {},
   "source": [
    "Из приведенных выше статистик видим, что минимальная и максимальная цены билетов - 0.68 и 744.66, соответственно. Средняя цена - 43.91, медиана - 24.45. Медиана так отличается от среднего как раз из-за выбросов в распределении. "
   ]
  },
  {
   "cell_type": "markdown",
   "id": "66d6a69d",
   "metadata": {},
   "source": [
    "### Cabin\n",
    "\n",
    "Вместо эого признака рассмотрим два сгенерированных - \"Deck\" и \"Board\", палубы и борты, соответсвенно."
   ]
  },
  {
   "cell_type": "code",
   "execution_count": 218,
   "id": "cd688185",
   "metadata": {},
   "outputs": [
    {
     "data": {
      "text/plain": [
       "<AxesSubplot:xlabel='Deck', ylabel='count'>"
      ]
     },
     "execution_count": 218,
     "metadata": {},
     "output_type": "execute_result"
    },
    {
     "data": {
      "image/png": "[encoded data removed]",
      "text/plain": [
       "<Figure size 432x288 with 1 Axes>"
      ]
     },
     "metadata": {
      "needs_background": "light"
     },
     "output_type": "display_data"
    }
   ],
   "source": [
    "titanic_data.loc[titanic_data['Deck'] == 'n','Deck'] = np.nan\n",
    "sns.countplot(x='Deck',data=titanic_data.sort_values(['Deck']))"
   ]
  },
  {
   "cell_type": "markdown",
   "id": "8a9d23ab",
   "metadata": {},
   "source": [
    "Больше всего пассажиров было на палубе C - примерно посередине корабля. Есть также некое значение Т - в плане корабля такой палубы не указано."
   ]
  },
  {
   "cell_type": "code",
   "execution_count": 220,
   "id": "868344e9",
   "metadata": {},
   "outputs": [
    {
     "data": {
      "text/plain": [
       "<AxesSubplot:xlabel='Board', ylabel='count'>"
      ]
     },
     "execution_count": 220,
     "metadata": {},
     "output_type": "execute_result"
    },
    {
     "data": {
      "image/png": "[encoded data removed]",
      "text/plain": [
       "<Figure size 432x288 with 1 Axes>"
      ]
     },
     "metadata": {
      "needs_background": "light"
     },
     "output_type": "display_data"
    }
   ],
   "source": [
    "sns.countplot(x='Board',data=titanic_data)"
   ]
  },
  {
   "cell_type": "markdown",
   "id": "54ba6b4e",
   "metadata": {},
   "source": [
    "На левом и правом борту пассажиров было примерно поровну."
   ]
  },
  {
   "cell_type": "markdown",
   "id": "3bdc9dc4",
   "metadata": {},
   "source": [
    "### Embarked"
   ]
  },
  {
   "cell_type": "code",
   "execution_count": 221,
   "id": "a1a8d112",
   "metadata": {},
   "outputs": [
    {
     "data": {
      "text/plain": [
       "<AxesSubplot:xlabel='Embarked', ylabel='count'>"
      ]
     },
     "execution_count": 221,
     "metadata": {},
     "output_type": "execute_result"
    },
    {
     "data": {
      "image/png": "[encoded data removed]",
      "text/plain": [
       "<Figure size 432x288 with 1 Axes>"
      ]
     },
     "metadata": {
      "needs_background": "light"
     },
     "output_type": "display_data"
    }
   ],
   "source": [
    "sns.countplot(x='Embarked',data=titanic_data)"
   ]
  },
  {
   "cell_type": "markdown",
   "id": "7836d3c7",
   "metadata": {},
   "source": [
    "Мы видим, что больше всего пассажиров отправлялись из Southampton."
   ]
  },
  {
   "cell_type": "markdown",
   "id": "f2f727d1",
   "metadata": {},
   "source": [
    "# Двумерный анализ\n",
    "\n",
    "В этом разделе мы исследуем взаимосвязи признаков попарно.\n",
    "В первую очередь нас, конечно, интересует связь признаков с нашим таргетом - \"Survived\"."
   ]
  },
  {
   "cell_type": "markdown",
   "id": "ac7dff3b",
   "metadata": {},
   "source": [
    "### Pclass - Survived"
   ]
  },
  {
   "cell_type": "code",
   "execution_count": 225,
   "id": "ee13e64c",
   "metadata": {},
   "outputs": [
    {
     "data": {
      "text/plain": [
       "Pclass  Survived\n",
       "1       0           12739\n",
       "        1           17576\n",
       "2       0           13622\n",
       "        1           15057\n",
       "3       0           30865\n",
       "        1           10141\n",
       "Name: Survived, dtype: int64"
      ]
     },
     "execution_count": 225,
     "metadata": {},
     "output_type": "execute_result"
    }
   ],
   "source": [
    "titanic_data.groupby(['Pclass','Survived'])['Survived'].count()"
   ]
  },
  {
   "cell_type": "code",
   "execution_count": 224,
   "id": "680c632c",
   "metadata": {},
   "outputs": [
    {
     "data": {
      "text/plain": [
       "<AxesSubplot:xlabel='Pclass', ylabel='count'>"
      ]
     },
     "execution_count": 224,
     "metadata": {},
     "output_type": "execute_result"
    },
    {
     "data": {
      "image/png": "[encoded data removed]",
      "text/plain": [
       "<Figure size 432x288 with 1 Axes>"
      ]
     },
     "metadata": {
      "needs_background": "light"
     },
     "output_type": "display_data"
    }
   ],
   "source": [
    "sb.countplot(x='Pclass',hue='Survived',data=titanic_data,)"
   ]
  },
  {
   "cell_type": "markdown",
   "id": "6314d309",
   "metadata": {},
   "source": [
    "Мы видим, что более половины представителей первого класса выжили, во втором классе выживших и погибших примерно поровну, в третьем же классе больше пассажиров погибло, чем выжило.\n",
    "Видимо, класс пассажира имел значение при спасении."
   ]
  },
  {
   "cell_type": "markdown",
   "id": "0177ca63",
   "metadata": {},
   "source": [
    "### Sex - Survived"
   ]
  },
  {
   "cell_type": "code",
   "execution_count": 226,
   "id": "63656c98",
   "metadata": {},
   "outputs": [
    {
     "data": {
      "text/plain": [
       "<AxesSubplot:xlabel='Sex', ylabel='count'>"
      ]
     },
     "execution_count": 226,
     "metadata": {},
     "output_type": "execute_result"
    },
    {
     "data": {
      "image/png": "[encoded data removed]",
      "text/plain": [
       "<Figure size 432x288 with 1 Axes>"
      ]
     },
     "metadata": {
      "needs_background": "light"
     },
     "output_type": "display_data"
    }
   ],
   "source": [
    "sb.countplot(x='Sex',hue='Survived',data=titanic_data,)"
   ]
  },
  {
   "cell_type": "markdown",
   "id": "44080d3e",
   "metadata": {},
   "source": [
    "Среди мужчин большая часть пассажиров погибла, среди женщин большая часть пассажирок выжила.\n",
    "Таким образом, пол пассажира также имел значение при спасении."
   ]
  },
  {
   "cell_type": "markdown",
   "id": "2ec79ac2",
   "metadata": {},
   "source": [
    "### Age - Survived"
   ]
  },
  {
   "cell_type": "code",
   "execution_count": 231,
   "id": "89a6d371",
   "metadata": {},
   "outputs": [
    {
     "data": {
      "text/plain": [
       "<AxesSubplot:xlabel='Age', ylabel='Count'>"
      ]
     },
     "execution_count": 231,
     "metadata": {},
     "output_type": "execute_result"
    },
    {
     "data": {
      "image/png": "[encoded data removed]",
      "text/plain": [
       "<Figure size 432x288 with 1 Axes>"
      ]
     },
     "metadata": {
      "needs_background": "light"
     },
     "output_type": "display_data"
    }
   ],
   "source": [
    "sns.histplot(x='Age', hue='Survived', bins = 40, data=titanic_data)"
   ]
  },
  {
   "cell_type": "code",
   "execution_count": 243,
   "id": "5b525d73",
   "metadata": {},
   "outputs": [
    {
     "data": {
      "text/plain": [
       "<AxesSubplot:xlabel='Survived', ylabel='Age'>"
      ]
     },
     "execution_count": 243,
     "metadata": {},
     "output_type": "execute_result"
    },
    {
     "data": {
      "image/png": "[encoded data removed]",
      "text/plain": [
       "<Figure size 432x288 with 1 Axes>"
      ]
     },
     "metadata": {
      "needs_background": "light"
     },
     "output_type": "display_data"
    }
   ],
   "source": [
    "sns.violinplot(x='Survived', y='Age', data=titanic_data)"
   ]
  },
  {
   "cell_type": "markdown",
   "id": "1c06d3b4",
   "metadata": {},
   "source": [
    "Мы видим, что среди детей в возрасте до 15-20 лет больше пассажиров погибло, чем выжило. Наибольшая разница между долей погибших и выживших среди молодых пассажиров возрастом 20-40 лет. Среди пассажиров возрастом около 65 и выше больше людей выжило.\n",
    "Таким образом, возраст тоже играл значение при спасение. Видно, что особое внимание уделялось пожилым людям."
   ]
  },
  {
   "cell_type": "markdown",
   "id": "c1ffbb72",
   "metadata": {},
   "source": [
    "### SibSp - Survived"
   ]
  },
  {
   "cell_type": "code",
   "execution_count": 237,
   "id": "f31f3661",
   "metadata": {},
   "outputs": [
    {
     "data": {
      "text/plain": [
       "<AxesSubplot:xlabel='SibSp', ylabel='count'>"
      ]
     },
     "execution_count": 237,
     "metadata": {},
     "output_type": "execute_result"
    },
    {
     "data": {
      "image/png": "[encoded data removed]",
      "text/plain": [
       "<Figure size 432x288 with 1 Axes>"
      ]
     },
     "metadata": {
      "needs_background": "light"
     },
     "output_type": "display_data"
    }
   ],
   "source": [
    "sns.countplot(x='SibSp', hue='Survived', data=titanic_data)"
   ]
  },
  {
   "cell_type": "markdown",
   "id": "535f1328",
   "metadata": {},
   "source": [
    "Мы видим, что вне зависимости от количества братьев, сестры и супруг(ов) доля выживших и погибших пассажиров примерно одинакова"
   ]
  },
  {
   "cell_type": "markdown",
   "id": "d8e5f429",
   "metadata": {},
   "source": [
    "### Parch - Survived"
   ]
  },
  {
   "cell_type": "code",
   "execution_count": 238,
   "id": "c7d4b032",
   "metadata": {},
   "outputs": [
    {
     "data": {
      "text/plain": [
       "<AxesSubplot:xlabel='Parch', ylabel='count'>"
      ]
     },
     "execution_count": 238,
     "metadata": {},
     "output_type": "execute_result"
    },
    {
     "data": {
      "image/png": "[encoded data removed]",
      "text/plain": [
       "<Figure size 432x288 with 1 Axes>"
      ]
     },
     "metadata": {
      "needs_background": "light"
     },
     "output_type": "display_data"
    }
   ],
   "source": [
    "sns.countplot(x='Parch', hue='Survived', data=titanic_data)"
   ]
  },
  {
   "cell_type": "markdown",
   "id": "7b7119df",
   "metadata": {},
   "source": [
    "Здесь мы так же видим, что доли выживших и погибших примерно одинаковы. Однако при значении Parch = 1 видим, что выживших больше. Возможно, этим одним человеком был родитель, спасающий своего ребенка, или ребенок, спасающий пожилого родителя."
   ]
  },
  {
   "cell_type": "markdown",
   "id": "b847162d",
   "metadata": {},
   "source": [
    "### FemMem - Survived"
   ]
  },
  {
   "cell_type": "code",
   "execution_count": 239,
   "id": "30240822",
   "metadata": {},
   "outputs": [
    {
     "data": {
      "text/plain": [
       "<AxesSubplot:xlabel='FemMem', ylabel='count'>"
      ]
     },
     "execution_count": 239,
     "metadata": {},
     "output_type": "execute_result"
    },
    {
     "data": {
      "image/png": "[encoded data removed]",
      "text/plain": [
       "<Figure size 432x288 with 1 Axes>"
      ]
     },
     "metadata": {
      "needs_background": "light"
     },
     "output_type": "display_data"
    }
   ],
   "source": [
    "sns.countplot(x='FemMem', hue='Survived', data=titanic_data)"
   ]
  },
  {
   "cell_type": "markdown",
   "id": "54a6efa8",
   "metadata": {},
   "source": [
    "Здесь мы видим, что шансы выжить у одиночек были значительно меньше, чем у людей, которые путешествовали с 1-2 членами семьи."
   ]
  },
  {
   "cell_type": "markdown",
   "id": "9c5ce77a",
   "metadata": {},
   "source": [
    "### Fare - Survived"
   ]
  },
  {
   "cell_type": "code",
   "execution_count": 256,
   "id": "1e0de31a",
   "metadata": {},
   "outputs": [
    {
     "data": {
      "text/plain": [
       "<AxesSubplot:xlabel='Fare', ylabel='Count'>"
      ]
     },
     "execution_count": 256,
     "metadata": {},
     "output_type": "execute_result"
    },
    {
     "data": {
      "image/png": "[encoded data removed]",
      "text/plain": [
       "<Figure size 432x288 with 1 Axes>"
      ]
     },
     "metadata": {
      "needs_background": "light"
     },
     "output_type": "display_data"
    }
   ],
   "source": [
    "IQR = titanic_data['Fare'].quantile(0.75) - titanic_data['Fare'].quantile(0.25)\n",
    "sns.histplot(x='Fare',hue='Survived', data=titanic_data)"
   ]
  },
  {
   "cell_type": "markdown",
   "id": "0cef0f47",
   "metadata": {},
   "source": [
    "По этой гистограмме не очень понятно зависимость выживаемости пассажира от цены билета."
   ]
  },
  {
   "cell_type": "code",
   "execution_count": 290,
   "id": "5a7fa73c",
   "metadata": {},
   "outputs": [
    {
     "data": {
      "text/plain": [
       "<AxesSubplot:xlabel='Survived', ylabel='Fare'>"
      ]
     },
     "execution_count": 290,
     "metadata": {},
     "output_type": "execute_result"
    },
    {
     "data": {
      "image/png": "[encoded data removed]",
      "text/plain": [
       "<Figure size 432x288 with 1 Axes>"
      ]
     },
     "metadata": {
      "needs_background": "light"
     },
     "output_type": "display_data"
    }
   ],
   "source": [
    "sns.violinplot(y='Fare',x='Survived', data=titanic_data)"
   ]
  },
  {
   "cell_type": "markdown",
   "id": "f7516e3d",
   "metadata": {},
   "source": [
    "Из двух графиков понятно, что пассажиры, заплатившие небольшую сумму за билет, скорее погибали, чем выживали. Что касается пассажиров, отдавших за билет более 100, они с большей вероятностью выживали.\n",
    "Попробуем исследовать это чуть глубже, разделив пассажиров на несколько категорий в зависимости от стоимости билета."
   ]
  },
  {
   "cell_type": "code",
   "execution_count": 320,
   "id": "b5a72709",
   "metadata": {},
   "outputs": [],
   "source": [
    "titanic_data['FareCategory'] = np.nan\n",
    "for quantile in range(10):\n",
    "    titanic_data.loc[titanic_data['Fare'] >= titanic_data['Fare'].quantile(quantile/10),'FareCategory'] = quantile + 1\n",
    "titanic_data['FareCategory'] = titanic_data['FareCategory'].astype(int)"
   ]
  },
  {
   "cell_type": "markdown",
   "id": "91b540cd",
   "metadata": {},
   "source": [
    "Здесь мы подсчитали десять квантилей (10%-ный, 20%-ный и т.д.).\n",
    "Если цена билета попадала между нулевым и десятипроцентным квантилем, то значение 'FareCategory' = 1, если между пятидесятипроцентным и шестидесятипроцентным, то 'FareCategory' = 6 и т.д."
   ]
  },
  {
   "cell_type": "code",
   "execution_count": 323,
   "id": "e1f21c0f",
   "metadata": {},
   "outputs": [
    {
     "name": "stdout",
     "output_type": "stream",
     "text": [
      "Квантиль 60% - 27.84\n",
      "Квантиль 70% - 31.07\n",
      "Квантиль 80% - 60.19\n",
      "Квантиль 90% - 95.77\n"
     ]
    },
    {
     "data": {
      "image/png": "[encoded data removed]",
      "text/plain": [
       "<Figure size 432x288 with 1 Axes>"
      ]
     },
     "metadata": {
      "needs_background": "light"
     },
     "output_type": "display_data"
    }
   ],
   "source": [
    "sns.countplot(x='FareCategory', hue='Survived', data=titanic_data)\n",
    "\n",
    "print(\"Квантиль 60% - {}\\nКвантиль 70% - {}\\nКвантиль 80% - {}\\nКвантиль 90% - {}\".format(titanic_data['Fare'].quantile(0.6),titanic_data['Fare'].quantile(0.7),titanic_data['Fare'].quantile(0.8),titanic_data['Fare'].quantile(0.9)))"
   ]
  },
  {
   "cell_type": "markdown",
   "id": "b79103d3",
   "metadata": {},
   "source": [
    "А вот это очень интересный результат. Мы видим, что вплоть до 60%-ного квантиля (т.е. когда билеты стоило меньше 27.84) доля погибших превышала долю выживших. После шестидесятипроцентного квантиля пассажиры с большей вероятностью выживали (билеты стоили 31.07 и выше).\n",
    "Между восьмым и девятым квантилем эта закономерность нарушается (стоимость билетов между 60.19 и 95.77) и больше пассажиров погибло, нежели выжило.\n",
    "Повторим вычисления с другим количеством квантилей:"
   ]
  },
  {
   "cell_type": "code",
   "execution_count": 325,
   "id": "3aafd055",
   "metadata": {},
   "outputs": [
    {
     "name": "stdout",
     "output_type": "stream",
     "text": [
      "Квантиль №9 60% - 27.84\n",
      "Квантиль №10 66.7% - 29.889999999999855\n",
      "Квантиль №12 80% - 60.19\n",
      "Квантиль №13 86.7% - 78.13\n"
     ]
    },
    {
     "data": {
      "image/png": "[encoded data removed]",
      "text/plain": [
       "<Figure size 432x288 with 1 Axes>"
      ]
     },
     "metadata": {
      "needs_background": "light"
     },
     "output_type": "display_data"
    }
   ],
   "source": [
    "for quantile in range(15):\n",
    "    titanic_data.loc[titanic_data['Fare'] >= titanic_data['Fare'].quantile(quantile/15),'FareCategory'] = quantile + 1\n",
    "titanic_data['FareCategory'] = titanic_data['FareCategory'].astype(int)\n",
    "\n",
    "sns.countplot(x='FareCategory', hue='Survived', data=titanic_data)\n",
    "print(\"Квантиль №9 60% - {}\\nКвантиль №10 66.7% - {}\\nКвантиль №12 80% - {}\\nКвантиль №13 86.7% - {}\".format(titanic_data['Fare'].quantile(0.6),titanic_data['Fare'].quantile(10/15),titanic_data['Fare'].quantile(0.8),titanic_data['Fare'].quantile(13/15)))"
   ]
  },
  {
   "cell_type": "markdown",
   "id": "7fa58ac9",
   "metadata": {},
   "source": [
    "Мы видим, что вплоть до 9-го квантиля (т.е. когда билеты стоило меньше 27.84) доля погибших превышала долю выживших. После 10-го квантиля пассажиры с большей вероятностью выживали (билеты стоили 29.89 и выше).\n",
    "Между двенадцатым и тринадцатым квантилем эта закономерность нарушается (стоимость билетов между 60.19 и 78.13) и больше пассажиров погибло, нежели выжило.\n",
    "\n",
    "Теперь мы удостоверились, что нарушение закономерности - это не случайный результат разбиения на 10 квантилей, а в этом промежутке и в самом деле нарушается закономерность."
   ]
  },
  {
   "cell_type": "markdown",
   "id": "b4c4d30a",
   "metadata": {},
   "source": [
    "### Cabin - Survived\n",
    "\n",
    "Проверим, влиял ли сам факт наличия номера каюты на выживаемость."
   ]
  },
  {
   "cell_type": "code",
   "execution_count": 327,
   "id": "6737e505",
   "metadata": {},
   "outputs": [
    {
     "data": {
      "text/plain": [
       "<AxesSubplot:xlabel='has_cabin', ylabel='count'>"
      ]
     },
     "execution_count": 327,
     "metadata": {},
     "output_type": "execute_result"
    },
    {
     "data": {
      "image/png": "[encoded data removed]",
      "text/plain": [
       "<Figure size 432x288 with 1 Axes>"
      ]
     },
     "metadata": {
      "needs_background": "light"
     },
     "output_type": "display_data"
    }
   ],
   "source": [
    "titanic_data['has_cabin'] = titanic_data['Cabin'].notna()\n",
    "sns.countplot(x='has_cabin', hue='Survived', data=titanic_data)"
   ]
  },
  {
   "cell_type": "markdown",
   "id": "81a3e387",
   "metadata": {},
   "source": [
    "Интересное наблюдение - среди пассажиров, чей номер каюты известен, больше выжило, нежели погибло.\n",
    "\n",
    "Теперь рассмотрим связь с признаками, полученными из номера каюты."
   ]
  },
  {
   "cell_type": "markdown",
   "id": "880aa49b",
   "metadata": {},
   "source": [
    "### Deck - Survived"
   ]
  },
  {
   "cell_type": "code",
   "execution_count": 328,
   "id": "3ae1c557",
   "metadata": {},
   "outputs": [
    {
     "data": {
      "text/plain": [
       "<AxesSubplot:xlabel='Deck', ylabel='count'>"
      ]
     },
     "execution_count": 328,
     "metadata": {},
     "output_type": "execute_result"
    },
    {
     "data": {
      "image/png": "[encoded data removed]",
      "text/plain": [
       "<Figure size 432x288 with 1 Axes>"
      ]
     },
     "metadata": {
      "needs_background": "light"
     },
     "output_type": "display_data"
    }
   ],
   "source": [
    "sns.countplot(x='Deck', hue='Survived', data=titanic_data)"
   ]
  },
  {
   "cell_type": "markdown",
   "id": "b5f27559",
   "metadata": {},
   "source": [
    "Среди тех, кто номер каюты все-таки имеет, почти на всех палубах больше пассажиров выжило, чем погибло (что соответсвует предыдущему графику).\n",
    "Можно заметить, что только на палубе А - самой высшей - доля погибших больше."
   ]
  },
  {
   "cell_type": "code",
   "execution_count": 329,
   "id": "63a7b4b3",
   "metadata": {},
   "outputs": [
    {
     "data": {
      "text/plain": [
       "<AxesSubplot:xlabel='Board', ylabel='count'>"
      ]
     },
     "execution_count": 329,
     "metadata": {},
     "output_type": "execute_result"
    },
    {
     "data": {
      "image/png": "[encoded data removed]",
      "text/plain": [
       "<Figure size 432x288 with 1 Axes>"
      ]
     },
     "metadata": {
      "needs_background": "light"
     },
     "output_type": "display_data"
    }
   ],
   "source": [
    "sns.countplot(x='Board', hue='Survived', data=titanic_data)"
   ]
  },
  {
   "cell_type": "markdown",
   "id": "bb6b8b09",
   "metadata": {},
   "source": [
    "Не наблюдается зависимость между левым и правым бортом каюты и выживаемостью пассажира."
   ]
  },
  {
   "cell_type": "markdown",
   "id": "89709965",
   "metadata": {},
   "source": [
    "#### Важное примечание по поводу признака Cabin\n",
    "\n",
    "Не стоит забывать, что более двух третей значений этого признака отсутсвует, и неясно, можно ли делать какие-либо достоверные выводы, основываясь на значении признака Cabin и сгенерированных из него Deck и Board."
   ]
  },
  {
   "cell_type": "markdown",
   "id": "bf382fd6",
   "metadata": {},
   "source": [
    "### Embarked - Survived"
   ]
  },
  {
   "cell_type": "code",
   "execution_count": 334,
   "id": "2c7a8a5f",
   "metadata": {},
   "outputs": [
    {
     "data": {
      "text/plain": [
       "<AxesSubplot:xlabel='Embarked', ylabel='count'>"
      ]
     },
     "execution_count": 334,
     "metadata": {},
     "output_type": "execute_result"
    },
    {
     "data": {
      "image/png": "[encoded data removed]",
      "text/plain": [
       "<Figure size 432x288 with 1 Axes>"
      ]
     },
     "metadata": {
      "needs_background": "light"
     },
     "output_type": "display_data"
    }
   ],
   "source": [
    "sns.countplot(x='Embarked', hue='Survived', data=titanic_data)"
   ]
  },
  {
   "cell_type": "markdown",
   "id": "58b0e1fa",
   "metadata": {},
   "source": [
    "Мы видим, что большинство пассажиров, отправлявшихся их пункта Southampton погибли, для других пунктов отправления доля выживших больше доли погибших."
   ]
  },
  {
   "cell_type": "markdown",
   "id": "f73ba298",
   "metadata": {},
   "source": [
    "## Продолжение двумерного анализа\n",
    "\n",
    "Уже рассмотрены связи всех признаков с целевым, теперь время рассмотреть связи признаков между собой. Построим для этого матрицу корреляции."
   ]
  },
  {
   "cell_type": "code",
   "execution_count": 341,
   "id": "d2fd4a79",
   "metadata": {},
   "outputs": [
    {
     "data": {
      "text/html": [
       "<div>\n",
       "<style scoped>\n",
       "    .dataframe tbody tr th:only-of-type {\n",
       "        vertical-align: middle;\n",
       "    }\n",
       "\n",
       "    .dataframe tbody tr th {\n",
       "        vertical-align: top;\n",
       "    }\n",
       "\n",
       "    .dataframe thead th {\n",
       "        text-align: right;\n",
       "    }\n",
       "</style>\n",
       "<table border=\"1\" class=\"dataframe\">\n",
       "  <thead>\n",
       "    <tr style=\"text-align: right;\">\n",
       "      <th></th>\n",
       "      <th>Survived</th>\n",
       "      <th>Pclass</th>\n",
       "      <th>Name</th>\n",
       "      <th>Sex</th>\n",
       "      <th>Age</th>\n",
       "      <th>SibSp</th>\n",
       "      <th>Parch</th>\n",
       "      <th>Ticket</th>\n",
       "      <th>Fare</th>\n",
       "      <th>Cabin</th>\n",
       "      <th>Embarked</th>\n",
       "      <th>Deck</th>\n",
       "      <th>Board</th>\n",
       "      <th>FemMem</th>\n",
       "      <th>FareCategory</th>\n",
       "      <th>has_cabin</th>\n",
       "    </tr>\n",
       "    <tr>\n",
       "      <th>PassengerId</th>\n",
       "      <th></th>\n",
       "      <th></th>\n",
       "      <th></th>\n",
       "      <th></th>\n",
       "      <th></th>\n",
       "      <th></th>\n",
       "      <th></th>\n",
       "      <th></th>\n",
       "      <th></th>\n",
       "      <th></th>\n",
       "      <th></th>\n",
       "      <th></th>\n",
       "      <th></th>\n",
       "      <th></th>\n",
       "      <th></th>\n",
       "      <th></th>\n",
       "    </tr>\n",
       "  </thead>\n",
       "  <tbody>\n",
       "    <tr>\n",
       "      <th>0</th>\n",
       "      <td>1</td>\n",
       "      <td>1</td>\n",
       "      <td>Oconnor, Frankie</td>\n",
       "      <td>1</td>\n",
       "      <td>44.774464</td>\n",
       "      <td>2</td>\n",
       "      <td>0</td>\n",
       "      <td>209245</td>\n",
       "      <td>27.14</td>\n",
       "      <td>C12239</td>\n",
       "      <td>1</td>\n",
       "      <td>3.0</td>\n",
       "      <td>True</td>\n",
       "      <td>2</td>\n",
       "      <td>9</td>\n",
       "      <td>True</td>\n",
       "    </tr>\n",
       "    <tr>\n",
       "      <th>1</th>\n",
       "      <td>0</td>\n",
       "      <td>3</td>\n",
       "      <td>Bryan, Drew</td>\n",
       "      <td>1</td>\n",
       "      <td>33.407362</td>\n",
       "      <td>0</td>\n",
       "      <td>0</td>\n",
       "      <td>27323</td>\n",
       "      <td>13.35</td>\n",
       "      <td>NaN</td>\n",
       "      <td>1</td>\n",
       "      <td>NaN</td>\n",
       "      <td>NaN</td>\n",
       "      <td>0</td>\n",
       "      <td>6</td>\n",
       "      <td>False</td>\n",
       "    </tr>\n",
       "    <tr>\n",
       "      <th>2</th>\n",
       "      <td>0</td>\n",
       "      <td>3</td>\n",
       "      <td>Owens, Kenneth</td>\n",
       "      <td>1</td>\n",
       "      <td>0.330000</td>\n",
       "      <td>1</td>\n",
       "      <td>2</td>\n",
       "      <td>CA 457703</td>\n",
       "      <td>71.29</td>\n",
       "      <td>NaN</td>\n",
       "      <td>1</td>\n",
       "      <td>NaN</td>\n",
       "      <td>NaN</td>\n",
       "      <td>3</td>\n",
       "      <td>13</td>\n",
       "      <td>False</td>\n",
       "    </tr>\n",
       "    <tr>\n",
       "      <th>3</th>\n",
       "      <td>0</td>\n",
       "      <td>3</td>\n",
       "      <td>Kramer, James</td>\n",
       "      <td>1</td>\n",
       "      <td>19.000000</td>\n",
       "      <td>0</td>\n",
       "      <td>0</td>\n",
       "      <td>A. 10866</td>\n",
       "      <td>13.04</td>\n",
       "      <td>NaN</td>\n",
       "      <td>1</td>\n",
       "      <td>NaN</td>\n",
       "      <td>NaN</td>\n",
       "      <td>0</td>\n",
       "      <td>6</td>\n",
       "      <td>False</td>\n",
       "    </tr>\n",
       "    <tr>\n",
       "      <th>4</th>\n",
       "      <td>1</td>\n",
       "      <td>3</td>\n",
       "      <td>Bond, Michael</td>\n",
       "      <td>1</td>\n",
       "      <td>25.000000</td>\n",
       "      <td>0</td>\n",
       "      <td>0</td>\n",
       "      <td>427635</td>\n",
       "      <td>7.76</td>\n",
       "      <td>NaN</td>\n",
       "      <td>1</td>\n",
       "      <td>NaN</td>\n",
       "      <td>NaN</td>\n",
       "      <td>0</td>\n",
       "      <td>2</td>\n",
       "      <td>False</td>\n",
       "    </tr>\n",
       "  </tbody>\n",
       "</table>\n",
       "</div>"
      ],
      "text/plain": [
       "             Survived  Pclass              Name  Sex        Age  SibSp  Parch  \\\n",
       "PassengerId                                                                     \n",
       "0                   1       1  Oconnor, Frankie    1  44.774464      2      0   \n",
       "1                   0       3       Bryan, Drew    1  33.407362      0      0   \n",
       "2                   0       3    Owens, Kenneth    1   0.330000      1      2   \n",
       "3                   0       3     Kramer, James    1  19.000000      0      0   \n",
       "4                   1       3     Bond, Michael    1  25.000000      0      0   \n",
       "\n",
       "                Ticket   Fare   Cabin  Embarked  Deck Board  FemMem  \\\n",
       "PassengerId                                                           \n",
       "0               209245  27.14  C12239         1   3.0  True       2   \n",
       "1                27323  13.35     NaN         1   NaN   NaN       0   \n",
       "2            CA 457703  71.29     NaN         1   NaN   NaN       3   \n",
       "3             A. 10866  13.04     NaN         1   NaN   NaN       0   \n",
       "4               427635   7.76     NaN         1   NaN   NaN       0   \n",
       "\n",
       "             FareCategory  has_cabin  \n",
       "PassengerId                           \n",
       "0                       9       True  \n",
       "1                       6      False  \n",
       "2                      13      False  \n",
       "3                       6      False  \n",
       "4                       2      False  "
      ]
     },
     "execution_count": 341,
     "metadata": {},
     "output_type": "execute_result"
    }
   ],
   "source": [
    "#замена категориальных признаков численными\n",
    "titanic_data.columns\n",
    "titanic_data['Sex'].replace({'female': 0, 'male': 1}, inplace=True)\n",
    "titanic_data.loc[titanic_data['Deck'] == 'T', 'Deck'] = np.nan\n",
    "titanic_data['Deck'].replace({'A': 1, 'B': 2, 'C': 3, 'D': 4, 'E': 5, 'F': 6, 'G': 7}, inplace=True)\n",
    "titanic_data['Embarked'].replace({'S': 1, 'Q': 2, 'C': 3}, inplace=True)\n",
    "titanic_data.head()"
   ]
  },
  {
   "cell_type": "code",
   "execution_count": 381,
   "id": "0c7e70db",
   "metadata": {},
   "outputs": [
    {
     "data": {
      "text/plain": [
       "<AxesSubplot:>"
      ]
     },
     "execution_count": 381,
     "metadata": {},
     "output_type": "execute_result"
    },
    {
     "data": {
      "image/png": "[encoded data removed]",
      "text/plain": [
       "<Figure size 432x288 with 2 Axes>"
      ]
     },
     "metadata": {
      "needs_background": "light"
     },
     "output_type": "display_data"
    }
   ],
   "source": [
    "needed_columns = ['Survived','Pclass', 'Sex', 'Age', 'FemMem', 'Embarked', 'FareCategory', 'Deck', 'has_cabin']\n",
    "titanic_corr = titanic_data[needed_columns].corr()\n",
    "mask = np.triu(np.ones_like(titanic_corr, dtype=bool))\n",
    "cmap = sns.diverging_palette(230, 20, as_cmap=True)\n",
    "sns.heatmap(titanic_corr, mask=mask, cmap=cmap)"
   ]
  },
  {
   "cell_type": "markdown",
   "id": "099052d1",
   "metadata": {},
   "source": [
    "## Связь Pclass с остальными признаками\n",
    "\n",
    "### Pclass - Sex"
   ]
  },
  {
   "cell_type": "code",
   "execution_count": 346,
   "id": "fe3b433e",
   "metadata": {},
   "outputs": [
    {
     "data": {
      "text/plain": [
       "<AxesSubplot:xlabel='Pclass', ylabel='count'>"
      ]
     },
     "execution_count": 346,
     "metadata": {},
     "output_type": "execute_result"
    },
    {
     "data": {
      "image/png": "[encoded data removed]",
      "text/plain": [
       "<Figure size 432x288 with 1 Axes>"
      ]
     },
     "metadata": {
      "needs_background": "light"
     },
     "output_type": "display_data"
    }
   ],
   "source": [
    "titanic_data['Sex'].replace({0: 'female', 1: 'male'}, inplace=True)\n",
    "sns.countplot(x='Pclass', hue='Sex', data=titanic_data)"
   ]
  },
  {
   "cell_type": "markdown",
   "id": "f2a811f8",
   "metadata": {},
   "source": [
    "Мы видим, что в третьем классе мужчин было намного больше. В двух других классах мужчин и женщин примерно поровну с небольшим перевесом у женщин.\n",
    "\n",
    "Рассмотрим Выживаемость женщин и мужчин отдельно в зависимости от класса."
   ]
  },
  {
   "cell_type": "code",
   "execution_count": 347,
   "id": "e21a6a68",
   "metadata": {},
   "outputs": [
    {
     "data": {
      "text/plain": [
       "<AxesSubplot:xlabel='Pclass', ylabel='count'>"
      ]
     },
     "execution_count": 347,
     "metadata": {},
     "output_type": "execute_result"
    },
    {
     "data": {
      "image/png": "[encoded data removed]",
      "text/plain": [
       "<Figure size 432x288 with 1 Axes>"
      ]
     },
     "metadata": {
      "needs_background": "light"
     },
     "output_type": "display_data"
    }
   ],
   "source": [
    "sns.countplot(x='Pclass', hue='Survived', data=titanic_data[titanic_data['Sex'] == 'female'])"
   ]
  },
  {
   "cell_type": "markdown",
   "id": "7d83e800",
   "metadata": {},
   "source": [
    "Выжила большая часть женщин из первого и второго классов и больше половины женщин из третьего класса. Из этого графика видно, что при спасении приоритет отдавался женщинам, особенно, женщинам более высокого статуса."
   ]
  },
  {
   "cell_type": "code",
   "execution_count": 348,
   "id": "4db8b7c9",
   "metadata": {},
   "outputs": [
    {
     "data": {
      "text/plain": [
       "<AxesSubplot:xlabel='Pclass', ylabel='count'>"
      ]
     },
     "execution_count": 348,
     "metadata": {},
     "output_type": "execute_result"
    },
    {
     "data": {
      "image/png": "[encoded data removed]",
      "text/plain": [
       "<Figure size 432x288 with 1 Axes>"
      ]
     },
     "metadata": {
      "needs_background": "light"
     },
     "output_type": "display_data"
    }
   ],
   "source": [
    "sns.countplot(x='Pclass', hue='Survived', data=titanic_data[titanic_data['Sex'] == 'male'])"
   ]
  },
  {
   "cell_type": "markdown",
   "id": "c15d89c0",
   "metadata": {},
   "source": [
    "Здесь картина обратная: погибло подавляющее большинство мужчин из третьего класса, больше половины из второго. Наибольшая доля выживших мужчин в первом классе."
   ]
  },
  {
   "cell_type": "code",
   "execution_count": 352,
   "id": "8f40786c",
   "metadata": {},
   "outputs": [
    {
     "data": {
      "text/html": [
       "<style  type=\"text/css\" >\n",
       "#T_74adc_row0_col0,#T_74adc_row3_col1,#T_74adc_row3_col2,#T_74adc_row3_col3{\n",
       "            background-color:  #fff7fb;\n",
       "            color:  #000000;\n",
       "        }#T_74adc_row0_col1{\n",
       "            background-color:  #fef6fa;\n",
       "            color:  #000000;\n",
       "        }#T_74adc_row0_col2{\n",
       "            background-color:  #f5eff6;\n",
       "            color:  #000000;\n",
       "        }#T_74adc_row0_col3{\n",
       "            background-color:  #fdf5fa;\n",
       "            color:  #000000;\n",
       "        }#T_74adc_row1_col0{\n",
       "            background-color:  #b7c5df;\n",
       "            color:  #000000;\n",
       "        }#T_74adc_row1_col1{\n",
       "            background-color:  #b4c4df;\n",
       "            color:  #000000;\n",
       "        }#T_74adc_row1_col2{\n",
       "            background-color:  #efe9f3;\n",
       "            color:  #000000;\n",
       "        }#T_74adc_row1_col3{\n",
       "            background-color:  #d7d6e9;\n",
       "            color:  #000000;\n",
       "        }#T_74adc_row2_col0{\n",
       "            background-color:  #dcdaeb;\n",
       "            color:  #000000;\n",
       "        }#T_74adc_row2_col1{\n",
       "            background-color:  #cacee5;\n",
       "            color:  #000000;\n",
       "        }#T_74adc_row2_col2{\n",
       "            background-color:  #4697c4;\n",
       "            color:  #000000;\n",
       "        }#T_74adc_row2_col3{\n",
       "            background-color:  #a7bddb;\n",
       "            color:  #000000;\n",
       "        }#T_74adc_row3_col0{\n",
       "            background-color:  #f7f0f7;\n",
       "            color:  #000000;\n",
       "        }#T_74adc_row4_col0,#T_74adc_row4_col1,#T_74adc_row4_col2,#T_74adc_row4_col3{\n",
       "            background-color:  #023858;\n",
       "            color:  #f1f1f1;\n",
       "        }</style><table id=\"T_74adc_\" ><thead>    <tr>        <th class=\"blank\" ></th>        <th class=\"index_name level0\" >Pclass</th>        <th class=\"col_heading level0 col0\" >1</th>        <th class=\"col_heading level0 col1\" >2</th>        <th class=\"col_heading level0 col2\" >3</th>        <th class=\"col_heading level0 col3\" >All</th>    </tr>    <tr>        <th class=\"index_name level0\" >Sex</th>        <th class=\"index_name level1\" >Survived</th>        <th class=\"blank\" ></th>        <th class=\"blank\" ></th>        <th class=\"blank\" ></th>        <th class=\"blank\" ></th>    </tr></thead><tbody>\n",
       "                <tr>\n",
       "                        <th id=\"T_74adc_level0_row0\" class=\"row_heading level0 row0\" rowspan=\"2\">female</th>\n",
       "                        <th id=\"T_74adc_level1_row0\" class=\"row_heading level1 row0\" >0</th>\n",
       "                        <td id=\"T_74adc_row0_col0\" class=\"data row0 col0\" >3727</td>\n",
       "                        <td id=\"T_74adc_row0_col1\" class=\"data row0 col1\" >3530</td>\n",
       "                        <td id=\"T_74adc_row0_col2\" class=\"data row0 col2\" >5403</td>\n",
       "                        <td id=\"T_74adc_row0_col3\" class=\"data row0 col3\" >12660</td>\n",
       "            </tr>\n",
       "            <tr>\n",
       "                                <th id=\"T_74adc_level1_row1\" class=\"row_heading level1 row1\" >1</th>\n",
       "                        <td id=\"T_74adc_row1_col0\" class=\"data row1 col0\" >12357</td>\n",
       "                        <td id=\"T_74adc_row1_col1\" class=\"data row1 col1\" >11753</td>\n",
       "                        <td id=\"T_74adc_row1_col2\" class=\"data row1 col2\" >7116</td>\n",
       "                        <td id=\"T_74adc_row1_col3\" class=\"data row1 col3\" >31226</td>\n",
       "            </tr>\n",
       "            <tr>\n",
       "                        <th id=\"T_74adc_level0_row2\" class=\"row_heading level0 row2\" rowspan=\"2\">male</th>\n",
       "                        <th id=\"T_74adc_level1_row2\" class=\"row_heading level1 row2\" >0</th>\n",
       "                        <td id=\"T_74adc_row2_col0\" class=\"data row2 col0\" >9012</td>\n",
       "                        <td id=\"T_74adc_row2_col1\" class=\"data row2 col1\" >10092</td>\n",
       "                        <td id=\"T_74adc_row2_col2\" class=\"data row2 col2\" >25462</td>\n",
       "                        <td id=\"T_74adc_row2_col3\" class=\"data row2 col3\" >44566</td>\n",
       "            </tr>\n",
       "            <tr>\n",
       "                                <th id=\"T_74adc_level1_row3\" class=\"row_heading level1 row3\" >1</th>\n",
       "                        <td id=\"T_74adc_row3_col0\" class=\"data row3 col0\" >5219</td>\n",
       "                        <td id=\"T_74adc_row3_col1\" class=\"data row3 col1\" >3304</td>\n",
       "                        <td id=\"T_74adc_row3_col2\" class=\"data row3 col2\" >3025</td>\n",
       "                        <td id=\"T_74adc_row3_col3\" class=\"data row3 col3\" >11548</td>\n",
       "            </tr>\n",
       "            <tr>\n",
       "                        <th id=\"T_74adc_level0_row4\" class=\"row_heading level0 row4\" >All</th>\n",
       "                        <th id=\"T_74adc_level1_row4\" class=\"row_heading level1 row4\" ></th>\n",
       "                        <td id=\"T_74adc_row4_col0\" class=\"data row4 col0\" >30315</td>\n",
       "                        <td id=\"T_74adc_row4_col1\" class=\"data row4 col1\" >28679</td>\n",
       "                        <td id=\"T_74adc_row4_col2\" class=\"data row4 col2\" >41006</td>\n",
       "                        <td id=\"T_74adc_row4_col3\" class=\"data row4 col3\" >100000</td>\n",
       "            </tr>\n",
       "    </tbody></table>"
      ],
      "text/plain": [
       "<pandas.io.formats.style.Styler at 0x1af5c0a8af0>"
      ]
     },
     "execution_count": 352,
     "metadata": {},
     "output_type": "execute_result"
    }
   ],
   "source": [
    "pd.crosstab([titanic_data['Sex'],titanic_data['Survived']],titanic_data['Pclass'],margins=True).style.background_gradient()"
   ]
  },
  {
   "cell_type": "markdown",
   "id": "ff54d431",
   "metadata": {},
   "source": [
    "Данная сводная таблица еще раз подтверждает, что больше всего выживших - среди женщин первого и второго классов, больше всего погибших - среди мужчин третьего класса."
   ]
  },
  {
   "cell_type": "markdown",
   "id": "51518b0d",
   "metadata": {},
   "source": [
    "### Pclass - Age"
   ]
  },
  {
   "cell_type": "code",
   "execution_count": 354,
   "id": "75f026ff",
   "metadata": {},
   "outputs": [
    {
     "data": {
      "text/plain": [
       "<AxesSubplot:xlabel='Pclass', ylabel='Age'>"
      ]
     },
     "execution_count": 354,
     "metadata": {},
     "output_type": "execute_result"
    },
    {
     "data": {
      "image/png": "[encoded data removed]",
      "text/plain": [
       "<Figure size 432x288 with 1 Axes>"
      ]
     },
     "metadata": {
      "needs_background": "light"
     },
     "output_type": "display_data"
    }
   ],
   "source": [
    "sns.violinplot(x='Pclass', y='Age', data = titanic_data)"
   ]
  },
  {
   "cell_type": "markdown",
   "id": "62066b15",
   "metadata": {},
   "source": [
    "Мы видим, что большинство молодых людей и детей относятся к третьему классу, доля людей возрастом 50 лет и старше больше в первом и втором классах.\n",
    "\n",
    "Рассмотрим выживаемость людей разных возрастов в зависимости от класса."
   ]
  },
  {
   "cell_type": "code",
   "execution_count": 356,
   "id": "3eb3ef05",
   "metadata": {},
   "outputs": [
    {
     "data": {
      "text/plain": [
       "<AxesSubplot:xlabel='Age', ylabel='Count'>"
      ]
     },
     "execution_count": 356,
     "metadata": {},
     "output_type": "execute_result"
    },
    {
     "data": {
      "image/png": "[encoded data removed]",
      "text/plain": [
       "<Figure size 432x288 with 1 Axes>"
      ]
     },
     "metadata": {
      "needs_background": "light"
     },
     "output_type": "display_data"
    }
   ],
   "source": [
    "sns.histplot(x='Age', hue='Survived', bins = 40, data=titanic_data[titanic_data['Pclass'] == 1])"
   ]
  },
  {
   "cell_type": "code",
   "execution_count": 357,
   "id": "287e0b19",
   "metadata": {},
   "outputs": [
    {
     "data": {
      "text/plain": [
       "<AxesSubplot:xlabel='Age', ylabel='Count'>"
      ]
     },
     "execution_count": 357,
     "metadata": {},
     "output_type": "execute_result"
    },
    {
     "data": {
      "image/png": "[encoded data removed]",
      "text/plain": [
       "<Figure size 432x288 with 1 Axes>"
      ]
     },
     "metadata": {
      "needs_background": "light"
     },
     "output_type": "display_data"
    }
   ],
   "source": [
    "sns.histplot(x='Age', hue='Survived', bins = 40, data=titanic_data[titanic_data['Pclass'] == 2])"
   ]
  },
  {
   "cell_type": "code",
   "execution_count": 358,
   "id": "0759586b",
   "metadata": {},
   "outputs": [
    {
     "data": {
      "text/plain": [
       "<AxesSubplot:xlabel='Age', ylabel='Count'>"
      ]
     },
     "execution_count": 358,
     "metadata": {},
     "output_type": "execute_result"
    },
    {
     "data": {
      "image/png": "[encoded data removed]",
      "text/plain": [
       "<Figure size 432x288 with 1 Axes>"
      ]
     },
     "metadata": {
      "needs_background": "light"
     },
     "output_type": "display_data"
    }
   ],
   "source": [
    "sns.histplot(x='Age', hue='Survived', bins = 40, data=titanic_data[titanic_data['Pclass'] == 3])"
   ]
  },
  {
   "cell_type": "markdown",
   "id": "76287e2b",
   "metadata": {},
   "source": [
    "Первый класс: примерно до 25 лет выживших и погибших пассажиров примерно поровну. После отметки 25-30 лет больше людей выживали, нежели погибали.\n",
    "Второй класс: доля выживших больше среди детей (до 20 лет) и взрослых (от 40 до 80 лет), среди молодых пассажиров (20-40 лет) больше погибли, чем выжили.\n",
    "Третий класс: среди абсолютно всех возрастов больше погибших, чем выживших"
   ]
  },
  {
   "cell_type": "markdown",
   "id": "2e470577",
   "metadata": {},
   "source": [
    "### Pclass - FemMem - слабая корреляция"
   ]
  },
  {
   "cell_type": "markdown",
   "id": "9e2e0c6b",
   "metadata": {},
   "source": [
    "### Pclass - Embarked"
   ]
  },
  {
   "cell_type": "code",
   "execution_count": 372,
   "id": "9b8c4c20",
   "metadata": {},
   "outputs": [
    {
     "data": {
      "text/plain": [
       "<AxesSubplot:xlabel='Embarked', ylabel='count'>"
      ]
     },
     "execution_count": 372,
     "metadata": {},
     "output_type": "execute_result"
    },
    {
     "data": {
      "image/png": "[encoded data removed]",
      "text/plain": [
       "<Figure size 432x288 with 1 Axes>"
      ]
     },
     "metadata": {
      "needs_background": "light"
     },
     "output_type": "display_data"
    }
   ],
   "source": [
    "titanic_data['Embarked'].replace({1: 'Southampton', 2:'Queenstown', 3: 'Cherbourg'}, inplace=True)\n",
    "sns.countplot(x='Embarked', hue='Pclass', data=titanic_data)"
   ]
  },
  {
   "cell_type": "markdown",
   "id": "4da05944",
   "metadata": {},
   "source": [
    "Больше всего пассажиров третьего класса сели в Southampton, в Queenstown и Cherbourg больше всего садилось пассажиров первого класса.\n",
    "Это наблюдение соотносится со связью Embarked - Survived. Больше всего погибших сели именно в Southampton, потому что они относились к третьему классу, а среди севших в Queenstown и Cherbourg больше выжило, потому что среди этих пассажиров больше представителей первого и второго классов."
   ]
  },
  {
   "cell_type": "markdown",
   "id": "228f7ca2",
   "metadata": {},
   "source": [
    "### Pclass - FareCategory"
   ]
  },
  {
   "cell_type": "code",
   "execution_count": 373,
   "id": "2c64f8eb",
   "metadata": {},
   "outputs": [
    {
     "data": {
      "text/plain": [
       "<AxesSubplot:xlabel='FareCategory', ylabel='count'>"
      ]
     },
     "execution_count": 373,
     "metadata": {},
     "output_type": "execute_result"
    },
    {
     "data": {
      "image/png": "[encoded data removed]",
      "text/plain": [
       "<Figure size 432x288 with 1 Axes>"
      ]
     },
     "metadata": {
      "needs_background": "light"
     },
     "output_type": "display_data"
    }
   ],
   "source": [
    "sns.countplot(x='FareCategory', hue='Pclass', data=titanic_data)"
   ]
  },
  {
   "cell_type": "markdown",
   "id": "9b85ebd4",
   "metadata": {},
   "source": [
    "Первый класс: большинство билетов от 8-го квантиля и выше, большая часть билетов 13-15 квантиля принадлежит именно первому классу.\n",
    "Второй класс: довольно равномерное распределение цен на билеты до 12-го квантиля, далее доля дорогих билетов уменьшается.\n",
    "Третий класс: большая часть билетов до 7-го квантиля, после доля более дорогих билетов уменьшается."
   ]
  },
  {
   "cell_type": "code",
   "execution_count": 375,
   "id": "90b9e74d",
   "metadata": {},
   "outputs": [
    {
     "name": "stdout",
     "output_type": "stream",
     "text": [
      "0 квантиль - 0.68\n",
      "1 квантиль - 7.05\n",
      "2 квантиль - 8.3\n",
      "3 квантиль - 9.31\n",
      "4 квантиль - 10.29\n",
      "5 квантиль - 11.43\n",
      "6 квантиль - 13.51\n",
      "7 квантиль - 22.81\n",
      "8 квантиль - 25.7\n",
      "9 квантиль - 27.84\n",
      "10 квантиль - 29.889999999999855\n",
      "11 квантиль - 32.54\n",
      "12 квантиль - 60.19\n",
      "13 квантиль - 78.13\n",
      "14 квантиль - 144.44399999999993\n"
     ]
    }
   ],
   "source": [
    "for quantile in range(15):\n",
    "    print(\"{} квантиль - {}\".format(quantile, titanic_data['Fare'].quantile(quantile/15)))"
   ]
  },
  {
   "cell_type": "markdown",
   "id": "e3da8b75",
   "metadata": {},
   "source": [
    "### Pclass - has_cabin"
   ]
  },
  {
   "cell_type": "code",
   "execution_count": 377,
   "id": "c13400ae",
   "metadata": {},
   "outputs": [
    {
     "data": {
      "text/plain": [
       "<AxesSubplot:xlabel='has_cabin', ylabel='count'>"
      ]
     },
     "execution_count": 377,
     "metadata": {},
     "output_type": "execute_result"
    },
    {
     "data": {
      "image/png": "[encoded data removed]",
      "text/plain": [
       "<Figure size 432x288 with 1 Axes>"
      ]
     },
     "metadata": {
      "needs_background": "light"
     },
     "output_type": "display_data"
    }
   ],
   "source": [
    "sns.countplot(x='has_cabin', hue='Pclass', data=titanic_data)"
   ]
  },
  {
   "cell_type": "markdown",
   "id": "e5928128",
   "metadata": {},
   "source": [
    "Основная часть данных, содержащая номер каюты, - пассажиры первого класса."
   ]
  },
  {
   "cell_type": "markdown",
   "id": "77988f0f",
   "metadata": {},
   "source": [
    "# Summary\n",
    "\n",
    "Был провевен EDA датасета по Титанику.\n",
    "\n",
    "Выявлены основные признаки, по которым можно определить, выживет пассажир или нет. Это Pclass, Sex и Age, где признак Pclass тесно связан со многими остальными признаками, такими как Fare (и FareCategory, соответственно), has_cabin и Deck, Embarked."
   ]
  }
 ],
 "metadata": {
  "kernelspec": {
   "display_name": "Python 3",
   "language": "python",
   "name": "python3"
  },
  "language_info": {
   "codemirror_mode": {
    "name": "ipython",
    "version": 3
   },
   "file_extension": ".py",
   "mimetype": "text/x-python",
   "name": "python",
   "nbconvert_exporter": "python",
   "pygments_lexer": "ipython3",
   "version": "3.8.8"
  }
 },
 "nbformat": 4,
 "nbformat_minor": 5
}
